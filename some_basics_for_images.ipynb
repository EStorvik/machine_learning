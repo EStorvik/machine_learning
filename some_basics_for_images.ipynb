{
 "cells": [
  {
   "cell_type": "code",
   "execution_count": null,
   "metadata": {},
   "outputs": [],
   "source": [
    "import cv2\n",
    "import numpy as np\n",
    "import skimage\n",
    "import matplotlib.pyplot as plt\n",
    "\n",
    "\n",
    "path_to_img: str = \"C:/Users/erst/src/image_analysis/images/erlend.jpg\""
   ]
  },
  {
   "cell_type": "code",
   "execution_count": null,
   "metadata": {},
   "outputs": [],
   "source": [
    "# Read image using opencv. Note that we then get an image in BGR and not RGB format.\n",
    "img = cv2.imread(path_to_img)\n",
    "\n",
    "# Show image using opencv. (OpenCV opens image in another window)\n",
    "cv2.imshow(\"Image\", img)\n",
    "cv2.waitKey()"
   ]
  },
  {
   "cell_type": "code",
   "execution_count": null,
   "metadata": {},
   "outputs": [],
   "source": [
    "# We can also show the image using matplotlib. However, if we just show it as it is right now, we will get the red and the blue channel swapped.\n",
    "plt.imshow(img)\n",
    "plt.show()"
   ]
  },
  {
   "cell_type": "code",
   "execution_count": null,
   "metadata": {},
   "outputs": [],
   "source": [
    "# We can now make a copy of the image with swapped color channels using numpy (actually there are many ways to do this, also simpler, but this somehow illustrated the data structure of the image arrays).\n",
    "img_rgb = np.zeros_like(img)\n",
    "img_rgb[:, :, 0] = img[:, :, 2]\n",
    "img_rgb[:, :, 1] = img[:, :, 1]\n",
    "img_rgb[:, :, 2] = img[:, :, 0]\n",
    "# Note that the same procedure easily could have been performed with opencv. img_rgb = cv2.cvtColor(img, cv2.COLOR_BGR2RGB)\n",
    "\n",
    "plt.imshow(img_rgb)\n",
    "plt.show()"
   ]
  },
  {
   "cell_type": "code",
   "execution_count": null,
   "metadata": {},
   "outputs": [],
   "source": [
    "# We can also transform the image to grayscale. For example with opencv.\n",
    "img_gray = cv2.cvtColor(img, cv2.COLOR_BGR2GRAY)\n",
    "plt.imshow(img_gray, cmap=\"gray\")\n",
    "plt.show()"
   ]
  },
  {
   "cell_type": "code",
   "execution_count": null,
   "metadata": {},
   "outputs": [],
   "source": [
    "# Using numpy it is now seemless to get portions of the image, either in terms of specific color channels or cropped parts of the image.\n",
    "img_red = img_rgb[:, :, 0] # Get the red channel.\n",
    "plt.figure(\"Red channel\")\n",
    "plt.imshow(img_red, cmap=\"gray\")\n",
    "\n",
    "# Get a cropped part of the image.\n",
    "img_cropped = img_rgb[100:200, 100:200, :]\n",
    "print(img_red.shape)\n",
    "plt.figure(\"Cropped image\")\n",
    "plt.imshow(img_cropped)\n",
    "plt.show()"
   ]
  },
  {
   "cell_type": "code",
   "execution_count": null,
   "metadata": {},
   "outputs": [],
   "source": [
    "# WE can now look at specific pixels in the image. Note that the image is a numpy array, and we can therefore use numpy indexing to get specific pixels.\n",
    "# Let us get the pixel at position (100, 100).\n",
    "pixel = img_rgb[100, 100, :]\n",
    "print(\"Pixel at position (100, 100):\", pixel)"
   ]
  },
  {
   "cell_type": "code",
   "execution_count": null,
   "metadata": {},
   "outputs": [],
   "source": [
    "# we can also look at pixel values at a range of positions.\n",
    "pixels = img_rgb[100:110, 100:110, :]\n",
    "print(\"Pixels at positions (100:110, 100:110):\" , pixels)"
   ]
  },
  {
   "cell_type": "code",
   "execution_count": null,
   "metadata": {},
   "outputs": [],
   "source": [
    "# We can also get the shape of the image.\n",
    "print(\"Shape of image:\", img_rgb.shape)"
   ]
  },
  {
   "cell_type": "code",
   "execution_count": null,
   "metadata": {},
   "outputs": [],
   "source": [
    "# We can also get the size of the image.\n",
    "print(\"Size of image:\", img_rgb.size)"
   ]
  },
  {
   "cell_type": "code",
   "execution_count": null,
   "metadata": {},
   "outputs": [],
   "source": [
    "# We can transform the datatype of the image. For example to float using skimage (scikit image).\n",
    "img_float: np.ndarray = skimage.img_as_float(img_rgb)\n",
    "print(\"Datatype of image before transformation:\", img_rgb.dtype)\n",
    "print(\"Datatype of image after transformation:\", img_float.dtype)\n",
    "print(img_float[100,100,:])\n",
    "\n",
    "# it is no problem to plot a float image using matplotlib.\n",
    "plt.imshow(img_float)\n",
    "plt.show()"
   ]
  },
  {
   "cell_type": "code",
   "execution_count": null,
   "metadata": {},
   "outputs": [],
   "source": [
    "# Let ut now also modify the image. For example we can delete a region from it.\n",
    "\n",
    "# First we make a copy that we want to modify\n",
    "img_copy = img_rgb.copy()\n",
    "\n",
    "# Now we delete a region from the image (i.e., set it equal to zero).\n",
    "img_copy[100:200, 100:200, :] = [0,0,0]\n",
    "\n",
    "plt.imshow(img_copy)\n",
    "plt.show()\n"
   ]
  },
  {
   "cell_type": "code",
   "execution_count": null,
   "metadata": {},
   "outputs": [],
   "source": [
    "# Finally we can save the modified image using opencv, but then we want BGR format again.\n",
    "img_copy = cv2.cvtColor(img_copy, cv2.COLOR_RGB2BGR)\n",
    "cv2.imwrite(\"C:/Users/erst/src/image_analysis/images/erlend_modified.jpg\", img_copy)"
   ]
  }
 ],
 "metadata": {
  "kernelspec": {
   "display_name": "Python 3",
   "language": "python",
   "name": "python3"
  },
  "language_info": {
   "codemirror_mode": {
    "name": "ipython",
    "version": 3
   },
   "file_extension": ".py",
   "mimetype": "text/x-python",
   "name": "python",
   "nbconvert_exporter": "python",
   "pygments_lexer": "ipython3",
   "version": "3.11.7"
  }
 },
 "nbformat": 4,
 "nbformat_minor": 2
}
